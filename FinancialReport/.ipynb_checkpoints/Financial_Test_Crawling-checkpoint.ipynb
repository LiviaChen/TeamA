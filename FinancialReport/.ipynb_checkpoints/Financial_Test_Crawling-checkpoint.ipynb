{
 "cells": [
  {
   "cell_type": "code",
   "execution_count": 6,
   "metadata": {},
   "outputs": [
    {
     "ename": "SyntaxError",
     "evalue": "EOL while scanning string literal (<ipython-input-6-6f65c96e1c55>, line 9)",
     "output_type": "error",
     "traceback": [
      "\u001b[1;36m  File \u001b[1;32m\"<ipython-input-6-6f65c96e1c55>\"\u001b[1;36m, line \u001b[1;32m9\u001b[0m\n\u001b[1;33m    'user-agent': 'Mozilla/5.0 (Windows NT 10.0; Win64; x64) AppleWebKit/537.36 (KHTML, like Gecko) Chrome/87.0.4280.88 Safari/537.36\u001b[0m\n\u001b[1;37m                                                                                                                                     ^\u001b[0m\n\u001b[1;31mSyntaxError\u001b[0m\u001b[1;31m:\u001b[0m EOL while scanning string literal\n"
     ]
    }
   ],
   "source": [
    "import requests\n",
    "from bs4 import BeautifulSoup\n",
    "import json\n",
    "import os\n",
    "import pandas as pd\n",
    "import re\n",
    "\n",
    "headers = {\n",
    "    'user-agent': 'Mozilla/5.0 (Windows NT 10.0; Win64; x64) AppleWebKit/537.36 (KHTML, like Gecko) Chrome/87.0.4280.88 Safari/537.36\n",
    "}\n",
    "ss = requests.session()\n",
    "url = 'https://mops.twse.com.tw/server-java/t05st09sub'\n",
    "\n",
    "\n",
    "res = ss.get(url, headers = headers)\n",
    "res.encoding = 'big5'\n",
    "soup = BeautifulSoup(res.text, 'html.parser')\n",
    "\n",
    "exitStr = ['<','類股','證券股','TDR台灣存託憑證','公司','代碼一覽表','上市','6128','�','2353','3046']\n",
    "count = 0\n",
    "tempStr = ['','']\n",
    "tempList = []\n",
    "\n",
    "\n",
    "for i in soup.select('table')[1].select('font') :\n",
    "    for temp in i:\n",
    "        if re.search(u'[\\u4e00-\\u9fff]', str(temp)) or str(temp).isdigit():\n",
    "            if any(ext in str(temp).replace(' ','') for ext in exitStr):\n",
    "                continue\n",
    "            tempStr[count] = temp.replace(' ','')\n",
    "            count += 1\n",
    "            if(count%2 == 0):\n",
    "                print(tempStr)\n",
    "                tempList.append(tempStr)\n",
    "                tempStr = ['','']\n",
    "                count=0\n"
   ]
  },
  {
   "cell_type": "code",
   "execution_count": null,
   "metadata": {},
   "outputs": [],
   "source": []
  }
 ],
 "metadata": {
  "kernelspec": {
   "display_name": "Python 3",
   "language": "python",
   "name": "python3"
  },
  "language_info": {
   "codemirror_mode": {
    "name": "ipython",
    "version": 3
   },
   "file_extension": ".py",
   "mimetype": "text/x-python",
   "name": "python",
   "nbconvert_exporter": "python",
   "pygments_lexer": "ipython3",
   "version": "3.8.5"
  }
 },
 "nbformat": 4,
 "nbformat_minor": 4
}
