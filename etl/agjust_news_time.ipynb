{
 "cells": [
  {
   "cell_type": "code",
   "execution_count": 2,
   "metadata": {},
   "outputs": [],
   "source": [
    "import pandas as pd\n",
    "import os\n",
    "import datetime"
   ]
  },
  {
   "cell_type": "markdown",
   "metadata": {},
   "source": [
    "### 讀取檔案 ¶"
   ]
  },
  {
   "cell_type": "code",
   "execution_count": 3,
   "metadata": {},
   "outputs": [],
   "source": [
    "def load_data(path,sep):\n",
    "    doc=pd.read_csv(path,encoding='utf-8',sep=sep)\n",
    "    # 整理日期轉成Pandas datetime 物件\n",
    "    doc['時間']= pd.to_datetime(doc['時間'])\n",
    "    # 新增對應股價的時間欄位\n",
    "    doc[\"預計影響日期\"] = doc[\"時間\"]\n",
    "    return doc\n",
    "df = load_data(r'data/lstm_practice_data_all_0304.csv','{')"
   ]
  },
  {
   "cell_type": "markdown",
   "metadata": {},
   "source": [
    "## 交易時間：早上9點~下午1點半 (下午兩點半後發的新聞算入隔天)\n",
    "### 更改成每半小時\n",
    "下午2點半後的新聞 影響隔天早上9點30(開盤)\n",
    "<br>09:00-09:29 -- 09:30\n",
    "<br>09:30-09:59 -- 10:00\n",
    "<br>10:00-10:29 -- 10:30\n",
    "<br>10:30-10:59 -- 11:00\n",
    "<br>11:00-11:29 -- 11:30\n",
    "<br>11:30-11:59 -- 12:00\n",
    "<br>12:00-12:29 -- 12:30\n",
    "<br>12:30-12:59 -- 13:00\n",
    "<br>13:00-13:29 -- 13:30\n",
    "<br>13:30-13:59 -- 09:00\n",
    "<br>14:00-14:29 -- 09:00"
   ]
  },
  {
   "cell_type": "code",
   "execution_count": 5,
   "metadata": {},
   "outputs": [],
   "source": [
    "#處理分鐘至00 or 30\n",
    "def change_minute(doc):\n",
    "    \n",
    "    for idx, row in doc.iterrows():\n",
    "        if doc.loc[idx,\"時間\"].minute < 30:\n",
    "            doc.loc[idx,\"預計影響日期\"] = doc.loc[idx,\"時間\"].replace(minute=30, second=0, microsecond=0)\n",
    "\n",
    "        elif doc.loc[idx,\"時間\"].minute >= 30:\n",
    "            doc.loc[idx,\"預計影響日期\"] = doc.loc[idx,\"時間\"].replace(minute=0, second=0, microsecond=0)\n",
    "            doc.loc[idx,\"預計影響日期\"] += pd.Timedelta(seconds=3600)\n",
    "    return doc\n",
    "df = change_minute(df)"
   ]
  },
  {
   "cell_type": "code",
   "execution_count": 7,
   "metadata": {},
   "outputs": [],
   "source": [
    "def adjust_after_close(doc):    \n",
    "    #設定股票收盤時間\n",
    "    close_time = 1330   #收盤時間\n",
    "    close_time2 = 1430  #盤後交易\n",
    "    #處理時間超過盤後交易(13:40~14:30)的部分\n",
    "    for idx, row in doc.iterrows():\n",
    "        if doc.loc[idx,\"預計影響日期\"].hour*100 + doc.loc[idx,\"預計影響日期\"].minute > close_time2:\n",
    "            doc.loc[idx,\"預計影響日期\"] += pd.Timedelta(days=1)\n",
    "            doc.loc[idx,\"預計影響日期\"] = doc.loc[idx,\"預計影響日期\"].replace(hour=9, minute=30, second=0, microsecond=0)\n",
    "    \n",
    "    #處理時間超過收盤時間的部分\n",
    "    for idx, row in doc.iterrows():\n",
    "        if doc.loc[idx,\"預計影響日期\"].hour*100 + doc.loc[idx,\"預計影響日期\"].minute > close_time:\n",
    "            doc.loc[idx,\"預計影響日期\"] += pd.Timedelta(days=1)\n",
    "            doc.loc[idx,\"預計影響日期\"] = doc.loc[idx,\"預計影響日期\"].replace(hour=9, minute=0, second=0, microsecond=0)\n",
    "    \n",
    "    return doc \n",
    "\n",
    "df = adjust_after_close(df)"
   ]
  },
  {
   "cell_type": "code",
   "execution_count": 13,
   "metadata": {},
   "outputs": [],
   "source": [
    "def adjust_before_open(doc):\n",
    "    #處理時間不到0900的部分\n",
    "    for idx, row in df_all.iterrows():\n",
    "        if doc.loc[idx,\"預計影響日期\"].hour*100 < 900:\n",
    "            doc.loc[idx,\"預計影響日期\"] = doc.loc[idx,\"預計影響日期\"].replace(hour=9, minute=30, second=0, microsecond=0)\n",
    "    \n",
    "    return doc\n",
    "\n",
    "df = adjust_before_open(df)"
   ]
  },
  {
   "cell_type": "code",
   "execution_count": 14,
   "metadata": {},
   "outputs": [],
   "source": [
    "def skip_holiday(doc):\n",
    "    \n",
    "    #2020國定假日休市\n",
    "    close_day = [datetime.date(2020,1,1), datetime.date(2020,1,21), datetime.date(2020,1,22), datetime.date(2020,1,23),\\\n",
    "                 datetime.date(2020,1,24), datetime.date(2020,1,25), datetime.date(2020,1,26), datetime.date(2020,1,27),\\\n",
    "                 datetime.date(2020,1,28), datetime.date(2020,1,29), datetime.date(2020,2,28), datetime.date(2020,4,2),\\\n",
    "                 datetime.date(2020,4,3), datetime.date(2020,5,1), datetime.date(2020,6,25), datetime.date(2020,6,26),\\\n",
    "                 datetime.date(2020,10,1), datetime.date(2020,10,2), datetime.date(2020,10,9)]\n",
    "    #週末但不休市\n",
    "    open_day = []\n",
    "    \n",
    "    #處理國定假日休市\n",
    "    for ind, row in doc.iterrows():\n",
    "        while doc.loc[ind,\"預計影響日期\"] in close_day:\n",
    "            doc.loc[ind,\"預計影響日期\"] += pd.Timedelta(days=1)\n",
    "            doc.loc[ind,\"預計影響日期\"] = doc.loc[ind,\"預計影響日期\"].replace(hour=9, minute=30, second=0, microsecond=0)\n",
    "    \n",
    "    #處理週末休市\n",
    "    for ind, row in df_all.iterrows():\n",
    "        if doc.loc[ind,\"預計影響日期\"].weekday() == 6:\n",
    "            doc.loc[ind,\"預計影響日期\"] += pd.Timedelta(days=1)\n",
    "            doc.loc[ind,\"預計影響日期\"] = doc.loc[ind,\"預計影響日期\"].replace(hour=9, minute=30, second=0, microsecond=0)\n",
    "\n",
    "        elif doc.loc[ind,\"預計影響日期\"].weekday() == 5 and doc.loc[ind,\"預計影響日期\"] not in open_day:\n",
    "            doc.loc[ind,\"預計影響日期\"] += pd.Timedelta(days=2)\n",
    "\n",
    "            doc.loc[ind,\"預計影響日期\"] = doc.loc[ind,\"預計影響日期\"].replace(hour=9, minute=30, second=0, microsecond=0)\n",
    "\n",
    "        else:\n",
    "            pass\n",
    "    \n",
    "    return doc\n",
    "\n",
    "df = skip_holiday(df)"
   ]
  },
  {
   "cell_type": "code",
   "execution_count": 15,
   "metadata": {},
   "outputs": [],
   "source": [
    "#處理國定假日休市\n",
    "for ind, row in df_all.iterrows():\n",
    "    while df_all.loc[ind,\"預計影響日期\"] in close_day:\n",
    "        df_all.loc[ind,\"預計影響日期\"] += pd.Timedelta(days=1)\n",
    "        df_all.loc[ind,\"預計影響日期\"] = df_all.loc[ind,\"預計影響日期\"].replace(hour=9, minute=30, second=0, microsecond=0)"
   ]
  },
  {
   "cell_type": "code",
   "execution_count": 16,
   "metadata": {},
   "outputs": [],
   "source": [
    "#處理週末休市\n",
    "for ind, row in df_all.iterrows():\n",
    "    if df_all.loc[ind,\"預計影響日期\"].weekday() == 6:\n",
    "        df_all.loc[ind,\"預計影響日期\"] += pd.Timedelta(days=1)\n",
    "        df_all.loc[ind,\"預計影響日期\"] = df_all.loc[ind,\"預計影響日期\"].replace(hour=9, minute=30, second=0, microsecond=0)\n",
    "    \n",
    "        #print(df_all.loc[ind,\"預計影響日期\"])\n",
    "    elif df_all.loc[ind,\"預計影響日期\"].weekday() == 5 and df_all.loc[ind,\"預計影響日期\"] not in open_day:\n",
    "        df_all.loc[ind,\"預計影響日期\"] += pd.Timedelta(days=2)\n",
    "        #print(df_all.loc[ind,\"預計影響日期\"])\n",
    "        df_all.loc[ind,\"預計影響日期\"] = df_all.loc[ind,\"預計影響日期\"].replace(hour=9, minute=30, second=0, microsecond=0)\n",
    "    \n",
    "    else:\n",
    "        pass"
   ]
  },
  {
   "cell_type": "markdown",
   "metadata": {},
   "source": [
    "## 存檔"
   ]
  },
  {
   "cell_type": "code",
   "execution_count": 32,
   "metadata": {},
   "outputs": [],
   "source": [
    "def save_data(path,sep):\n",
    "    df.to_csv(path,sep=sep,index=False)\n",
    "    return f\"saved to {path}\"\n",
    "save_data('changed_time.csv',sep='{')"
   ]
  }
 ],
 "metadata": {
  "kernelspec": {
   "display_name": "Python 3",
   "language": "python",
   "name": "python3"
  },
  "language_info": {
   "codemirror_mode": {
    "name": "ipython",
    "version": 3
   },
   "file_extension": ".py",
   "mimetype": "text/x-python",
   "name": "python",
   "nbconvert_exporter": "python",
   "pygments_lexer": "ipython3",
   "version": "3.8.5"
  }
 },
 "nbformat": 4,
 "nbformat_minor": 4
}
