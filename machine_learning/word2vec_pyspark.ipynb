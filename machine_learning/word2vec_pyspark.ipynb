{
 "cells": [
  {
   "cell_type": "code",
   "execution_count": 1,
   "metadata": {},
   "outputs": [
    {
     "data": {
      "text/html": [
       "\n",
       "            <div>\n",
       "                <p><b>SparkSession - hive</b></p>\n",
       "                \n",
       "        <div>\n",
       "            <p><b>SparkContext</b></p>\n",
       "\n",
       "            <p><a href=\"http://192.168.153.129:4040\">Spark UI</a></p>\n",
       "\n",
       "            <dl>\n",
       "              <dt>Version</dt>\n",
       "                <dd><code>v2.4.5</code></dd>\n",
       "              <dt>Master</dt>\n",
       "                <dd><code>spark://devenv:7077</code></dd>\n",
       "              <dt>AppName</dt>\n",
       "                <dd><code>PySparkShell</code></dd>\n",
       "            </dl>\n",
       "        </div>\n",
       "        \n",
       "            </div>\n",
       "        "
      ],
      "text/plain": [
       "<pyspark.sql.session.SparkSession at 0x7fb154919610>"
      ]
     },
     "execution_count": 1,
     "metadata": {},
     "output_type": "execute_result"
    }
   ],
   "source": [
    "spark"
   ]
  },
  {
   "cell_type": "code",
   "execution_count": 1,
   "metadata": {},
   "outputs": [
    {
     "data": {
      "text/html": [
       "\n",
       "        <div>\n",
       "            <p><b>SparkContext</b></p>\n",
       "\n",
       "            <p><a href=\"http://192.168.153.129:4040\">Spark UI</a></p>\n",
       "\n",
       "            <dl>\n",
       "              <dt>Version</dt>\n",
       "                <dd><code>v2.4.5</code></dd>\n",
       "              <dt>Master</dt>\n",
       "                <dd><code>spark://devenv:7077</code></dd>\n",
       "              <dt>AppName</dt>\n",
       "                <dd><code>PySparkShell</code></dd>\n",
       "            </dl>\n",
       "        </div>\n",
       "        "
      ],
      "text/plain": [
       "<SparkContext master=spark://devenv:7077 appName=PySparkShell>"
      ]
     },
     "execution_count": 1,
     "metadata": {},
     "output_type": "execute_result"
    }
   ],
   "source": [
    "sc"
   ]
  },
  {
   "cell_type": "code",
   "execution_count": 1,
   "metadata": {},
   "outputs": [],
   "source": [
    "from pyspark.sql.functions import udf\n",
    "from pyspark.sql.types import *\n",
    "import pyspark.sql.functions as F\n",
    "from pyspark.ml.feature import Word2Vec\n",
    "from pyspark.ml.feature import CountVectorizer, HashingTF, IDF, Tokenizer, RegexTokenizer, StopWordsRemover\n",
    "import jieba"
   ]
  },
  {
   "cell_type": "code",
   "execution_count": 49,
   "metadata": {},
   "outputs": [],
   "source": [
    "df = spark.read.load(path,format=\"csv\", sep=\"{\", inferSchema=\"true\", header=\"true\")"
   ]
  },
  {
   "cell_type": "code",
   "execution_count": 50,
   "metadata": {},
   "outputs": [],
   "source": [
    "df2 = df.withColumnRenamed(\"生技醫療類指數\",\"tourism\") \\\n",
    "    .withColumnRenamed(\"觀光類指數\",\"bio\")\\\n",
    "    .withColumnRenamed(\"網站\",\"website\")\\\n",
    "    .withColumnRenamed(\"關鍵字\",\"keyword\")\\\n",
    "    .withColumnRenamed(\"網址\",\"url\")\\\n",
    "    .withColumnRenamed(\"新聞標題\",\"title\")\\\n",
    "    .withColumnRenamed(\"內容\",\"content\")\\\n",
    "    .withColumnRenamed(\"預計影響日期\",\"effect_time\")"
   ]
  },
  {
   "cell_type": "code",
   "execution_count": 51,
   "metadata": {},
   "outputs": [],
   "source": [
    "df_ = df2.select(['content'])"
   ]
  },
  {
   "cell_type": "code",
   "execution_count": 56,
   "metadata": {},
   "outputs": [],
   "source": [
    "df_try.write.parquet(\"ml_test/news.parquet\")"
   ]
  },
  {
   "cell_type": "code",
   "execution_count": 57,
   "metadata": {},
   "outputs": [],
   "source": [
    "df = spark.read.parquet(\"ml_test/news.parquet\")"
   ]
  },
  {
   "cell_type": "code",
   "execution_count": 58,
   "metadata": {},
   "outputs": [],
   "source": [
    "df.createOrReplaceTempView(\"news\")"
   ]
  },
  {
   "cell_type": "code",
   "execution_count": 59,
   "metadata": {},
   "outputs": [],
   "source": [
    "stop_words=open('./stopwords.txt', 'r', encoding='utf-8').readlines()\n",
    "stop_words = [line.strip() for line in stop_words]"
   ]
  },
  {
   "cell_type": "code",
   "execution_count": 60,
   "metadata": {},
   "outputs": [],
   "source": [
    "spark.sparkContext.addFile('userdict.txt')\n",
    "spark.sparkContext.addFile('dict.txt.big')"
   ]
  },
  {
   "cell_type": "code",
   "execution_count": 61,
   "metadata": {},
   "outputs": [],
   "source": [
    "def seg_list(x):\n",
    "    if not jieba.dt.initialized:\n",
    "        jieba.set_dictionary('dict.txt.big')\n",
    "        jieba.load_userdict('userdict.txt')\n",
    "    s=jieba.lcut(x, cut_all=False)\n",
    "    s=[x for x in s if len(x)>1 and x not in stop_words]\n",
    "    \n",
    "    return s            \n",
    "seg_udf = udf(seg_list, ArrayType(StringType()))"
   ]
  },
  {
   "cell_type": "code",
   "execution_count": 62,
   "metadata": {},
   "outputs": [],
   "source": [
    "df = spark.sql(\"select * from news \").cache()"
   ]
  },
  {
   "cell_type": "code",
   "execution_count": 63,
   "metadata": {},
   "outputs": [],
   "source": [
    "df = df.withColumn('tokens',seg_udf(df['content']))"
   ]
  },
  {
   "cell_type": "code",
   "execution_count": 68,
   "metadata": {},
   "outputs": [],
   "source": [
    "df_final = df.select('tokens')"
   ]
  },
  {
   "cell_type": "code",
   "execution_count": 71,
   "metadata": {},
   "outputs": [],
   "source": [
    "df_final.write.parquet(\"ml_test/news_jieba.parquet\")"
   ]
  },
  {
   "cell_type": "code",
   "execution_count": 4,
   "metadata": {},
   "outputs": [],
   "source": [
    "df = spark.read.parquet(\"ml_test/news_jieba.parquet\")"
   ]
  },
  {
   "cell_type": "code",
   "execution_count": 5,
   "metadata": {},
   "outputs": [],
   "source": [
    "df1 = df.limit(50000)"
   ]
  },
  {
   "cell_type": "code",
   "execution_count": null,
   "metadata": {
    "scrolled": true
   },
   "outputs": [],
   "source": [
    "import datetime\n",
    "print(datetime.datetime.now())\n",
    "word2Vec = Word2Vec(vectorSize=250, minCount=5, inputCol=\"tokens\", outputCol=\"result\")\n",
    "#word2Vec = Word2Vec(vectorSize=250, minCount=5, inputCol=\"tokens\", outputCol=\"result\", windowSize = 10, numPartitions=10,maxIter=10)\n",
    "model = word2Vec.fit(df1)\n",
    "\n",
    "print(datetime.datetime.now())"
   ]
  },
  {
   "cell_type": "code",
   "execution_count": 7,
   "metadata": {},
   "outputs": [],
   "source": [
    "model.save(\"ml_test/word5vec-model\")"
   ]
  },
  {
   "cell_type": "code",
   "execution_count": 33,
   "metadata": {},
   "outputs": [
    {
     "data": {
      "text/plain": [
       "[Row(word='配送', similarity=0.613333523273468),\n",
       " Row(word='買不到', similarity=0.5987043976783752),\n",
       " Row(word='佛心', similarity=0.5964447259902954),\n",
       " Row(word='發售', similarity=0.5891783833503723),\n",
       " Row(word='買到', similarity=0.5793681740760803)]"
      ]
     },
     "execution_count": 33,
     "metadata": {},
     "output_type": "execute_result"
    }
   ],
   "source": [
    "model.findSynonyms('口罩', 5).collect() #10000"
   ]
  },
  {
   "cell_type": "code",
   "execution_count": 36,
   "metadata": {},
   "outputs": [
    {
     "data": {
      "text/plain": [
       "[Row(word='外科', similarity=0.48661717772483826),\n",
       " Row(word='手套', similarity=0.47157344222068787),\n",
       " Row(word='單次', similarity=0.4420098662376404),\n",
       " Row(word='醫用', similarity=0.44008582830429077),\n",
       " Row(word='乳膠手套', similarity=0.43241336941719055)]"
      ]
     },
     "execution_count": 36,
     "metadata": {},
     "output_type": "execute_result"
    }
   ],
   "source": [
    "model.findSynonyms('口罩', 5).collect() #30000"
   ]
  },
  {
   "cell_type": "code",
   "execution_count": 7,
   "metadata": {},
   "outputs": [
    {
     "data": {
      "text/plain": [
       "[Row(word='戴上', similarity=0.524684488773346),\n",
       " Row(word='醫用', similarity=0.4781174659729004),\n",
       " Row(word='港民', similarity=0.4763379991054535),\n",
       " Row(word='配戴', similarity=0.47589749097824097),\n",
       " Row(word='外科', similarity=0.47426867485046387)]"
      ]
     },
     "execution_count": 7,
     "metadata": {},
     "output_type": "execute_result"
    }
   ],
   "source": [
    "model.findSynonyms('口罩', 5).collect() #35000"
   ]
  },
  {
   "cell_type": "code",
   "execution_count": 5,
   "metadata": {},
   "outputs": [
    {
     "data": {
      "text/plain": [
       "[Row(word='佩戴', similarity=0.5079847574234009),\n",
       " Row(word='社交距離', similarity=0.5024327635765076),\n",
       " Row(word='配戴', similarity=0.47091391682624817),\n",
       " Row(word='勤洗手', similarity=0.4567772448062897),\n",
       " Row(word='戴上', similarity=0.45477065443992615)]"
      ]
     },
     "execution_count": 5,
     "metadata": {},
     "output_type": "execute_result"
    }
   ],
   "source": [
    "model.findSynonyms('口罩', 5).collect() #40000"
   ]
  }
 ],
 "metadata": {
  "kernelspec": {
   "display_name": "Python 3",
   "language": "python",
   "name": "python3"
  },
  "language_info": {
   "codemirror_mode": {
    "name": "ipython",
    "version": 3
   },
   "file_extension": ".py",
   "mimetype": "text/x-python",
   "name": "python",
   "nbconvert_exporter": "python",
   "pygments_lexer": "ipython3",
   "version": "3.8.5"
  }
 },
 "nbformat": 4,
 "nbformat_minor": 4
}
